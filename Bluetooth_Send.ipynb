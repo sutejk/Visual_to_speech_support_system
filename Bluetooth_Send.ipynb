{
 "cells": [
  {
   "cell_type": "code",
   "execution_count": null,
   "metadata": {},
   "outputs": [],
   "source": [
    "# Install the dependancies if not available. Just uncomment\n",
    "# !pip install Pillow\n",
    "# !pip install imageio\n",
    "# !pip install serial\n",
    "# !pip install tensorflow\n",
    "# !pip install pyserial"
   ]
  },
  {
   "cell_type": "code",
   "execution_count": null,
   "metadata": {},
   "outputs": [],
   "source": [
    "# Import all the libraries \n",
    "from PIL import Image\n",
    "from scipy.misc import imread\n",
    "import imageio\n",
    "import serial,time\n",
    "\n",
    "# Connect to the bluetooth; the port for the bluetooth can be found from the Device manager.\n",
    "ser = serial.Serial('COM4')"
   ]
  },
  {
   "cell_type": "code",
   "execution_count": null,
   "metadata": {},
   "outputs": [],
   "source": [
    "# Open the image that needs to be converted into the 28x28 format\n",
    "image = Image.open('try.jpg').convert('L')\n",
    "image.thumbnail((28, 28), Image.ANTIALIAS)\n",
    "image.save('resize_1.png')\n",
    "img = imageio.imread('resize_1.png')\n",
    "img.shape"
   ]
  },
  {
   "cell_type": "code",
   "execution_count": null,
   "metadata": {},
   "outputs": [],
   "source": [
    "# This cell is used to send the data to the bluetooth.\n",
    "# Data is already embedded in the JSON format for the CC3200.\n",
    "str_array = []\n",
    "for i in img:\n",
    "    for num in i:\n",
    "        str_array.append(str(num))\n",
    "index = 0\n",
    "ser.write(str.encode('{\\\"state\\\": {\\\"desired\\\" : {\\\"pythonML\\\":\\\"'))\n",
    "time.sleep(2)\n",
    "for i in range (28):\n",
    "    strTosend = []\n",
    "    for i in range (28):\n",
    "        strTosend.append(str(str_array[index]))\n",
    "        index += 1\n",
    "    print('x'.join(strTosend))\n",
    "    strTosend = 'x'.join(strTosend)+'x'\n",
    "    ser.write(str.encode(strTosend))\n",
    "    time.sleep(2)\n",
    "ser.write(str.encode('\\\"}}}\\r\\n#'))\n",
    "print(\"Done Uploading the Data!\")"
   ]
  },
  {
   "cell_type": "code",
   "execution_count": null,
   "metadata": {},
   "outputs": [],
   "source": [
    "# Used to close the bluetooth communication.\n",
    "ser.close()"
   ]
  }
 ],
 "metadata": {
  "kernelspec": {
   "display_name": "Python 3",
   "language": "python",
   "name": "python3"
  },
  "language_info": {
   "codemirror_mode": {
    "name": "ipython",
    "version": 3
   },
   "file_extension": ".py",
   "mimetype": "text/x-python",
   "name": "python",
   "nbconvert_exporter": "python",
   "pygments_lexer": "ipython3",
   "version": "3.7.0"
  }
 },
 "nbformat": 4,
 "nbformat_minor": 2
}
